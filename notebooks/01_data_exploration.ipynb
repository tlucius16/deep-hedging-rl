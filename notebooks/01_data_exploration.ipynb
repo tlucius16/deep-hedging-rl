{
 "cells": [
  {
   "cell_type": "markdown",
   "metadata": {},
   "source": [
    "place holder"
   ]
  },
  {
   "cell_type": "code",
   "execution_count": 1,
   "metadata": {
    "ExecuteTime": {
     "end_time": "2025-09-27T15:45:04.043348Z",
     "start_time": "2025-09-27T15:45:04.041709Z"
    }
   },
   "outputs": [],
   "source": [
    "import pandas as pd\n",
    "import numpy as np\n",
    "import matplotlib.pyplot as plt\n",
    "import seaborn as sns"
   ]
  },
  {
   "cell_type": "code",
   "execution_count": 3,
   "metadata": {},
   "outputs": [
    {
     "ename": "ModuleNotFoundError",
     "evalue": "No module named 'data_pipeline'",
     "output_type": "error",
     "traceback": [
      "\u001b[31m---------------------------------------------------------------------------\u001b[39m",
      "\u001b[31mModuleNotFoundError\u001b[39m                       Traceback (most recent call last)",
      "\u001b[36mCell\u001b[39m\u001b[36m \u001b[39m\u001b[32mIn[3]\u001b[39m\u001b[32m, line 4\u001b[39m\n\u001b[32m      1\u001b[39m \u001b[38;5;28;01mimport\u001b[39;00m\u001b[38;5;250m \u001b[39m\u001b[34;01mos\u001b[39;00m,\u001b[38;5;250m \u001b[39m\u001b[34;01msys\u001b[39;00m\n\u001b[32m      2\u001b[39m sys.path.append(os.path.abspath(\u001b[33m\"\u001b[39m\u001b[33m../src\u001b[39m\u001b[33m\"\u001b[39m))\n\u001b[32m----> \u001b[39m\u001b[32m4\u001b[39m \u001b[38;5;28;01mfrom\u001b[39;00m\u001b[38;5;250m \u001b[39m\u001b[34;01mdata_pipeline\u001b[39;00m\u001b[34;01m.\u001b[39;00m\u001b[34;01mbuilders\u001b[39;00m\u001b[38;5;250m \u001b[39m\u001b[38;5;28;01mimport\u001b[39;00m (\n\u001b[32m      5\u001b[39m     build_market_daily, build_market_plus_hvol_fwd,\n\u001b[32m      6\u001b[39m     build_options_snapshot, build_vol_surface_long\n\u001b[32m      7\u001b[39m )\n\u001b[32m      9\u001b[39m mkt   = build_market_daily()\n\u001b[32m     10\u001b[39m mktx  = build_market_plus_hvol_fwd()\n",
      "\u001b[31mModuleNotFoundError\u001b[39m: No module named 'data_pipeline'"
     ]
    }
   ],
   "source": [
    "import os, sys\n",
    "sys.path.append(os.path.abspath(\"../src\"))\n",
    "\n",
    "from data_pipeline.builders import (\n",
    "    build_market_daily, build_market_plus_hvol_fwd,\n",
    "    build_options_snapshot, build_vol_surface_long\n",
    ")\n",
    "\n",
    "mkt   = build_market_daily()\n",
    "mktx  = build_market_plus_hvol_fwd()\n",
    "opts  = build_options_snapshot()\n",
    "vsurf = build_vol_surface_long()\n",
    "\n",
    "mkt.tail(), mktx.tail(), opts.head(), vsurf.head()\n"
   ]
  }
 ],
 "metadata": {
  "kernelspec": {
   "display_name": "Python 3",
   "language": "python",
   "name": "python3"
  },
  "language_info": {
   "codemirror_mode": {
    "name": "ipython",
    "version": 3
   },
   "file_extension": ".py",
   "mimetype": "text/x-python",
   "name": "python",
   "nbconvert_exporter": "python",
   "pygments_lexer": "ipython3",
   "version": "3.13.5"
  }
 },
 "nbformat": 4,
 "nbformat_minor": 2
}
