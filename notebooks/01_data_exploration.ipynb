{
 "cells": [
  {
   "cell_type": "code",
   "execution_count": null,
   "metadata": {
    "ExecuteTime": {
     "end_time": "2025-09-27T15:45:04.043348Z",
     "start_time": "2025-09-27T15:45:04.041709Z"
    }
   },
   "outputs": [],
   "source": [
    "import pandas as pd\n",
    "import numpy as np\n",
    "import matplotlib.pyplot as plt\n",
    "import seaborn as sns\n",
    "import os, sys\n",
    "\n",
    "# Make sure notebook can import from src folder\n",
    "sys.path.append(os.path.abspath(\"../src\"))\n",
    "\n",
    "# Plotting defaults\n",
    "%matplotlib inline\n",
    "plt.rcParams[\"figure.figsize\"] = (12, 6)\n",
    "plt.rcParams[\"figure.dpi\"] = 120\n",
    "sns.set_style(\"whitegrid\")"
   ]
  },
  {
   "cell_type": "code",
   "execution_count": null,
   "metadata": {},
   "outputs": [],
   "source": [
    "from data_pipeline.loaders import load_standardized_options, load_option_volume_wrds\n",
    "\n",
    "px  = load_standardized_options(\"spy\")\n",
    "vol = load_option_volume_wrds(\"spy\")\n",
    "\n",
    "print(\"px cols:\", px.columns.tolist()[:12])\n",
    "display(px.head())\n",
    "\n",
    "print(\"vol cols:\", vol.columns.tolist()[:12])\n",
    "display(vol.head())"
   ]
  },
  {
   "cell_type": "code",
   "execution_count": null,
   "metadata": {},
   "outputs": [],
   "source": [
    "# 01_data_exploration.ipynb\n",
    "\n",
    "# --- setup ---\n",
    "import pandas as pd\n",
    "import matplotlib.pyplot as plt\n",
    "\n",
    "from data_pipeline.validate import validate_raw\n",
    "from data_pipeline.builders import (\n",
    "    build_market_daily,\n",
    "    build_options_snapshot,\n",
    "    build_vol_surface_long,\n",
    "    build_market_plus_hvol_fwd,\n",
    ")\n",
    "\n",
    "# --- 0) check LFS files are materialized ---\n",
    "validate_raw()   # will error if someone forgot `git lfs pull`\n",
    "\n",
    "# --- 1) macro/market series ---\n",
    "mkt = build_market_daily(save=False)\n",
    "print(\"Market daily shape:\", mkt.shape)\n",
    "display(mkt.tail())\n",
    "\n",
    "# --- 2) options snapshot (SPY) ---\n",
    "opt_spy = build_options_snapshot(\"spy\", save=False)\n",
    "print(\"Options snapshot shape:\", opt_spy.shape)\n",
    "display(opt_spy.head())\n",
    "\n",
    "# --- 3) vol surface (SPY) ---\n",
    "surf_spy = build_vol_surface_long(\"spy\", save=False)\n",
    "print(\"Vol surface shape:\", surf_spy.shape)\n",
    "display(surf_spy.head())\n",
    "\n",
    "# pivot tenor vs moneyness for the latest date\n",
    "d0 = surf_spy['date'].max()\n",
    "surf0 = surf_spy.query(\"date == @d0\").pivot(\n",
    "    index='tenor_d', columns='moneyness', values='iv'\n",
    ")\n",
    "surf0.plot(title=f\"Vol surface {d0.date()}\", figsize=(12,5))\n",
    "plt.show()"
   ]
  },
  {
   "cell_type": "code",
   "execution_count": null,
   "metadata": {},
   "outputs": [],
   "source": [
    "opt_spy"
   ]
  },
  {
   "cell_type": "code",
   "execution_count": null,
   "metadata": {},
   "outputs": [],
   "source": [
    "# speed knobs\n",
    "LAST_N_DAYS = 730  # 2 years; bump up/down as needed\n",
    "\n",
    "# ensure datetime and filter recent window\n",
    "opt_spy_fast = opt_spy.copy()\n",
    "opt_spy_fast[\"date\"] = pd.to_datetime(opt_spy_fast[\"date\"], errors=\"coerce\")\n",
    "cutoff = opt_spy_fast[\"date\"].max() - pd.Timedelta(days=LAST_N_DAYS)\n",
    "opt_spy_fast = opt_spy_fast.loc[opt_spy_fast[\"date\"] >= cutoff]\n",
    "\n",
    "# keep only sensible rows for Greeks/prices\n",
    "opt_spy_fast = opt_spy_fast[(opt_spy_fast[\"mid\"] > 0) & opt_spy_fast[\"iv\"].notna()]\n",
    "\n",
    "# aggregate to daily medians by put/call (massive downsample)\n",
    "agg_cols = [\"mid\", \"iv\", \"delta\", \"gamma\", \"theta\", \"vega\"]\n",
    "daily = (\n",
    "    opt_spy_fast\n",
    "    .groupby([\"date\", \"put_call\"], as_index=False)[agg_cols]\n",
    "    .median()\n",
    "    .sort_values(\"date\")\n",
    ")\n",
    "daily.head()"
   ]
  },
  {
   "cell_type": "code",
   "execution_count": null,
   "metadata": {},
   "outputs": [],
   "source": [
    "for col in [\"mid\", \"iv\", \"delta\", \"gamma\", \"theta\", \"vega\"]:\n",
    "    plt.figure(figsize=(10, 4))\n",
    "    plt.title(f\"SPY options — daily median {col} (last {LAST_N_DAYS} days)\")\n",
    "    sns.lineplot(data=daily, x=\"date\", y=col, hue=\"put_call\", errorbar=None, lw=1)\n",
    "    plt.xlabel(\"date\"); plt.ylabel(col)\n",
    "    plt.tight_layout()\n",
    "    plt.show()"
   ]
  },
  {
   "cell_type": "code",
   "execution_count": null,
   "metadata": {},
   "outputs": [],
   "source": [
    "# example slice: near-the-money & short tenors\n",
    "mask = (\n",
    "    opt_spy[\"moneyness\"].between(0.95, 1.05) &\n",
    "    (opt_spy[\"tenor_d\"].between(7, 45))\n",
    ")\n",
    "opt_slice = opt_spy.loc[mask].copy()\n",
    "# then repeat the same aggregation/plotting steps on `opt_slice`"
   ]
  },
  {
   "cell_type": "code",
   "execution_count": null,
   "metadata": {},
   "outputs": [],
   "source": [
    "print(\"mkt shape:\", mkt.shape)\n",
    "display(mkt.tail(3))\n",
    "print(\"Columns:\", list(mkt.columns))\n",
    "print(\"NaNs by column:\")\n",
    "display(mkt.isna().sum())"
   ]
  },
  {
   "cell_type": "code",
   "execution_count": null,
   "metadata": {},
   "outputs": [],
   "source": [
    "mkt = mkt.copy()\n",
    "if \"date\" in mkt.columns:\n",
    "    mkt[\"date\"] = pd.to_datetime(mkt[\"date\"], errors=\"coerce\")\n",
    "    mkt = mkt.sort_values(\"date\").set_index(\"date\")\n",
    "else:\n",
    "    mkt.index = pd.to_datetime(mkt.index, errors=\"coerce\")\n",
    "    mkt = mkt.sort_index()\n",
    "\n",
    "print(\"Index dtype:\", mkt.index.dtype)\n",
    "display(mkt.tail(3))"
   ]
  },
  {
   "cell_type": "code",
   "execution_count": null,
   "metadata": {},
   "outputs": [],
   "source": [
    "# Try common price column names; adjust if your build uses different ones\n",
    "price_cols_try = [\"close\", \"adj_close\", \"px_close\", \"price\", \"spot\"]\n",
    "spot_col = next((c for c in price_cols_try if c in mkt.columns), None)\n",
    "\n",
    "if spot_col is None:\n",
    "    raise ValueError(f\"Could not find a spot price column in mkt. Saw: {list(mkt.columns)[:10]}\")\n",
    "\n",
    "mkt[\"ret\"] = mkt[spot_col].pct_change()\n",
    "mkt[\"log_ret\"] = np.log(mkt[spot_col]).diff()\n",
    "print(\"Using spot column:\", spot_col)\n",
    "display(mkt[[spot_col, \"ret\", \"log_ret\"]].tail(5))"
   ]
  },
  {
   "cell_type": "code",
   "execution_count": null,
   "metadata": {},
   "outputs": [],
   "source": [
    "# 21d (≈1 month) rolling realized vol, annualized\n",
    "ROLL = 21\n",
    "mkt[\"rv_21\"] = mkt[\"log_ret\"].rolling(ROLL).std() * np.sqrt(252)\n",
    "display(mkt[[spot_col, \"rv_21\"]].tail(5))"
   ]
  },
  {
   "cell_type": "code",
   "execution_count": null,
   "metadata": {},
   "outputs": [],
   "source": [
    "LAST_N_DAYS = 365 * 2  # last 2 years\n",
    "mkt_plot = mkt.iloc[-LAST_N_DAYS:].copy()\n",
    "\n",
    "fig, ax = plt.subplots(2, 1, figsize=(12, 6), sharex=True)\n",
    "mkt_plot[spot_col].plot(ax=ax[0], lw=1)\n",
    "ax[0].set_title(f\"{spot_col} (last {LAST_N_DAYS} days)\")\n",
    "\n",
    "mkt_plot[\"rv_21\"].plot(ax=ax[1], lw=1)\n",
    "ax[1].set_title(\"Realized Vol (21d, annualized)\")\n",
    "plt.tight_layout()\n",
    "plt.show()"
   ]
  },
  {
   "cell_type": "code",
   "execution_count": null,
   "metadata": {},
   "outputs": [],
   "source": [
    "# Try to detect a VIX/implied vol column\n",
    "iv_cols_try = [\"vix\", \"iv_30d\", \"implied_vol\", \"hvol_30d\"]\n",
    "iv_col = next((c for c in iv_cols_try if c in mkt.columns), None)\n",
    "\n",
    "if iv_col is not None:\n",
    "    comp = mkt[[iv_col, \"rv_21\"]].dropna().iloc[-LAST_N_DAYS:]\n",
    "    print(f\"Comparing {iv_col} vs realized vol (rv_21)\")\n",
    "    display(comp.tail(3))\n",
    "\n",
    "    fig, ax = plt.subplots(2, 1, figsize=(12, 6), sharex=True)\n",
    "    comp[iv_col].plot(ax=ax[0], lw=1)\n",
    "    ax[0].set_title(iv_col)\n",
    "    comp[\"rv_21\"].plot(ax=ax[1], lw=1, color=\"tab:orange\")\n",
    "    ax[1].set_title(\"Realized Vol (21d, annualized)\")\n",
    "    plt.tight_layout()\n",
    "    plt.show()\n",
    "\n",
    "    corr = comp.corr().round(3)\n",
    "    print(\"Correlation matrix:\")\n",
    "    display(corr)\n",
    "else:\n",
    "    print(\"No implied vol/VIX-like column found; skipped IV vs RV comparison.\")"
   ]
  },
  {
   "cell_type": "code",
   "execution_count": null,
   "metadata": {},
   "outputs": [],
   "source": [
    "from data_pipeline.qc import coverage, assert_min_coverage\n",
    "\n",
    "# --- ensure required columns exist ---\n",
    "required = [\"spy\", \"rate_10y\"]\n",
    "\n",
    "# try to find a plausible spot column and alias it to 'spy' if missing\n",
    "if \"spy\" not in mkt.columns:\n",
    "    spot_candidates = [\"close\", \"adj_close\", \"px_close\", \"price\", \"spot\", \"spy_close\"]\n",
    "    spot_col = next((c for c in spot_candidates if c in mkt.columns), None)\n",
    "    if spot_col is not None:\n",
    "        mkt = mkt.copy()\n",
    "        mkt[\"spy\"] = mkt[spot_col]\n",
    "        print(f\"Aliased spot column '{spot_col}' -> 'spy'\")\n",
    "    else:\n",
    "        print(\"⚠️ Could not find a spot column to alias to 'spy'. Available cols:\", list(mkt.columns)[:15])\n",
    "\n",
    "# gentle notice if 10y rate is missing\n",
    "if \"rate_10y\" not in mkt.columns:\n",
    "    print(\"⚠️ 'rate_10y' not found in mkt columns. QC will likely fail this requirement.\")\n",
    "\n",
    "# --- run coverage + assertion ---\n",
    "cov = coverage(mkt)\n",
    "print(\"Coverage summary:\\n\", cov)\n",
    "\n",
    "# only assert for the columns that actually exist to avoid hard crashes\n",
    "existing_required = [c for c in required if c in mkt.columns]\n",
    "if existing_required:\n",
    "    assert_min_coverage(mkt, existing_required, 0.60)\n",
    "    print(f\"✅ Minimum coverage OK for: {existing_required} (>= 60%)\")\n",
    "else:\n",
    "    print(\"⚠️ None of the required columns were present; skipped assert_min_coverage.\")"
   ]
  },
  {
   "cell_type": "code",
   "execution_count": null,
   "metadata": {},
   "outputs": [],
   "source": [
    "# --- robust column detection ---\n",
    "def pick_col(df, candidates):\n",
    "    return next((c for c in candidates if c in df.columns), None)\n",
    "\n",
    "spy_col  = pick_col(mkt, [\"spy\",\"close_spy\",\"spot\",\"close\",\"adj_close\",\"px_close\"])\n",
    "gspc_col = pick_col(mkt, [\"close_gspc\",\"spx\",\"gspc\",\"^GSPC\",\"px_spx\",\"close_spx\"])\n",
    "vix_col  = pick_col(mkt, [\"vix\",\"vix_close\",\"iv_30d\",\"implied_vol\"])\n",
    "rate_col = pick_col(mkt, [\"rate_10y\",\"ust10y\",\"t10y\",\"yield_10y\"])\n",
    "\n",
    "print(\"Detected columns:\", {\"spy\": spy_col, \"gspc\": gspc_col, \"vix\": vix_col, \"rate_10y\": rate_col})\n",
    "\n",
    "# rows where at least one series has data\n",
    "mkt_any = mkt[mkt.notna().any(axis=1)]\n",
    "\n",
    "# rows where ALL detected series are present\n",
    "present_required = [c for c in [spy_col, gspc_col, vix_col, rate_col] if c is not None]\n",
    "mkt_all = mkt.dropna(subset=present_required) if present_required else mkt.copy()\n",
    "\n",
    "# start from the first valid SPY point (if we found a spy column)\n",
    "if spy_col is not None and mkt[spy_col].first_valid_index() is not None:\n",
    "    mkt_from_spy = mkt.loc[mkt[spy_col].first_valid_index():]\n",
    "else:\n",
    "    mkt_from_spy = mkt.copy()\n",
    "\n",
    "print(\"Shapes:\", {\"mkt_any\": mkt_any.shape, \"mkt_all\": mkt_all.shape, \"mkt_from_spy\": mkt_from_spy.shape})"
   ]
  },
  {
   "cell_type": "code",
   "execution_count": null,
   "metadata": {},
   "outputs": [],
   "source": [
    "# 01_data_exploration.ipynb\n",
    "\n",
    "# --- setup ---\n",
    "import pandas as pd\n",
    "import matplotlib.pyplot as plt\n",
    "\n",
    "from data_pipeline.validate import validate_raw\n",
    "from data_pipeline.builders import (\n",
    "    build_market_daily,\n",
    "    build_options_snapshot,\n",
    "    build_vol_surface_long,\n",
    "    build_market_plus_hvol_fwd,\n",
    ")\n",
    "\n",
    "# --- 0) check LFS files are materialized ---\n",
    "validate_raw()   # will error if someone forgot `git lfs pull`\n",
    "\n",
    "# --- 1) macro/market series ---\n",
    "mkt = build_market_daily(save=False)\n",
    "mkt.tail()\n",
    "\n",
    "# --- 2) options snapshot (SPY) ---\n",
    "opt_spy = build_options_snapshot(\"spy\", save=False)\n",
    "opt_spy.head()\n",
    "\n",
    "# --- 3) vol surface (SPY) ---\n",
    "surf_spy = build_vol_surface_long(\"spy\", save=False)\n",
    "surf_spy.head()\n",
    "\n",
    "# pivot tenor vs moneyness for a date\n",
    "d0 = surf_spy['date'].max()\n",
    "surf0 = surf_spy.query(\"date == @d0\").pivot(index='tenor_d', columns='moneyness', values='iv')\n",
    "surf0.plot(title=f\"Vol surface {d0.date()}\", figsize=(12,5))\n",
    "plt.show()\n"
   ]
  },
  {
   "cell_type": "code",
   "execution_count": null,
   "metadata": {},
   "outputs": [],
   "source": [
    "display(mkt_all.head())\n",
    "\n",
    "axes = mkt_all.plot(\n",
    "    subplots=True,\n",
    "    figsize=(12, 8),\n",
    "    title=\"Market Series\",\n",
    "    lw=1\n",
    ")\n",
    "\n",
    "for ax in axes:\n",
    "    ax.set_xlabel(\"\")\n",
    "plt.tight_layout()\n",
    "plt.show()"
   ]
  },
  {
   "cell_type": "code",
   "execution_count": null,
   "metadata": {},
   "outputs": [],
   "source": [
    "print(\"Vol surface shape:\", surf_spy.shape)\n",
    "print(\"Columns:\", surf_spy.columns.tolist())\n",
    "display(surf_spy.head())\n",
    "\n",
    "print(\"\\nNaN counts:\")\n",
    "display(surf_spy.isna().sum())\n",
    "\n",
    "print(\"\\nUnique tenors (days):\", surf_spy['tenor_d'].unique()[:10])\n",
    "print(\"Unique moneyness (sample):\", surf_spy['moneyness'].unique()[:10])"
   ]
  },
  {
   "cell_type": "code",
   "execution_count": null,
   "metadata": {},
   "outputs": [],
   "source": [
    "# --- Clean SPY option data ---\n",
    "print(\"Before cleaning:\", len(opt_spy))\n",
    "\n",
    "opt_spy_clean = opt_spy.copy()\n",
    "\n",
    "# Drop rows with missing implied vol or Greeks\n",
    "cols_to_check = [\"iv\", \"delta\", \"gamma\", \"vega\"]\n",
    "opt_spy_clean = opt_spy_clean.dropna(subset=cols_to_check)\n",
    "\n",
    "# Filter out zero or negative strikes/mid prices\n",
    "opt_spy_clean = opt_spy_clean[\n",
    "    (opt_spy_clean[\"strike\"] > 0) &\n",
    "    (opt_spy_clean[\"mid\"] > 0)\n",
    "]\n",
    "\n",
    "# Ensure date is parsed\n",
    "opt_spy_clean[\"date\"] = pd.to_datetime(opt_spy_clean[\"date\"], errors=\"coerce\")\n",
    "\n",
    "print(\"After cleaning:\", len(opt_spy_clean))\n",
    "display(opt_spy_clean.head())"
   ]
  },
  {
   "cell_type": "code",
   "execution_count": null,
   "metadata": {},
   "outputs": [],
   "source": [
    "# Quick range check for key columns\n",
    "for col in [\"iv\", \"delta\", \"gamma\", \"vega\", \"theta\", \"mid\"]:\n",
    "    if col in opt_spy_clean.columns:\n",
    "        print(f\"{col:>6} range: {opt_spy_clean[col].min():.4f}  to  {opt_spy_clean[col].max():.4f}\")"
   ]
  },
  {
   "cell_type": "code",
   "execution_count": null,
   "metadata": {},
   "outputs": [],
   "source": [
    "# Plot IV smiles for a few expiries\n",
    "sample_expiries = opt_spy_clean[\"expiry\"].dropna().unique()[:3]  # first 3 expiries\n",
    "for exp in sample_expiries:\n",
    "    data = opt_spy_clean[opt_spy_clean[\"expiry\"] == exp]\n",
    "    plt.figure(figsize=(8,4))\n",
    "    plt.scatter(data[\"strike\"], data[\"iv\"], alpha=0.5)\n",
    "    plt.title(f\"IV smile for expiry {exp}\")\n",
    "    plt.xlabel(\"Strike\")\n",
    "    plt.ylabel(\"Implied Volatility\")\n",
    "    plt.show()"
   ]
  },
  {
   "cell_type": "code",
   "execution_count": null,
   "metadata": {},
   "outputs": [],
   "source": [
    "iv_term = opt_spy_clean.groupby(\"expiry\")[\"iv\"].mean().sort_index()\n",
    "iv_term.plot(marker=\"o\", title=\"Average IV Term Structure\")\n",
    "plt.ylabel(\"Implied Volatility\")\n",
    "plt.show()"
   ]
  },
  {
   "cell_type": "code",
   "execution_count": null,
   "metadata": {},
   "outputs": [],
   "source": [
    "merged = pd.merge(\n",
    "    opt_spy_clean[[\"date\",\"iv\"]].groupby(\"date\").mean(),\n",
    "    mkt[[\"rv_21\"]],\n",
    "    left_index=True, right_index=True, how=\"inner\"\n",
    ")\n",
    "merged.plot(title=\"Average Option IV vs Realized Vol (21d)\")\n",
    "plt.show()\n",
    "print(\"Correlation:\", merged.corr().iloc[0,1].round(3))"
   ]
  },
  {
   "cell_type": "code",
   "execution_count": null,
   "metadata": {},
   "outputs": [],
   "source": [
    "opt_spy_clean.to_parquet(\"../data/opt_spy_clean.parquet\", index=False)\n",
    "print(\"Saved cleaned SPY options to parquet.\")"
   ]
  },
  {
   "cell_type": "code",
   "execution_count": null,
   "metadata": {},
   "outputs": [],
   "source": []
  },
  {
   "cell_type": "code",
   "execution_count": null,
   "metadata": {},
   "outputs": [],
   "source": []
  }
 ],
 "metadata": {
  "kernelspec": {
   "display_name": "Python 3 (ipykernel)",
   "language": "python",
   "name": "python3"
  },
  "language_info": {
   "codemirror_mode": {
    "name": "ipython",
    "version": 3
   },
   "file_extension": ".py",
   "mimetype": "text/x-python",
   "name": "python",
   "nbconvert_exporter": "python",
   "pygments_lexer": "ipython3",
   "version": "3.11.13"
  }
 },
 "nbformat": 4,
 "nbformat_minor": 4
}
