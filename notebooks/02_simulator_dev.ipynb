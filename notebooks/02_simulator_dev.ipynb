{
 "cells": [
  {
   "cell_type": "code",
   "execution_count": 5,
   "metadata": {},
   "outputs": [],
   "source": [
    "import numpy as np\n",
    "import pandas as pd\n",
    "import matplotlib.pyplot as plt\n",
    "\n",
    "# inline plotting for Jupyter\n",
    "%matplotlib inline\n",
    "\n",
    "# plotting defaults\n",
    "plt.rcParams[\"figure.figsize\"] = (10, 5)\n",
    "plt.rcParams[\"figure.dpi\"] = 120\n",
    "\n",
    "# reproducibility\n",
    "np.random.seed(42)"
   ]
  },
  {
   "cell_type": "code",
   "execution_count": 6,
   "metadata": {},
   "outputs": [],
   "source": [
    "def simulate_gbm_paths(\n",
    "    S0: float,\n",
    "    mu: float,\n",
    "    sigma: float,\n",
    "    T: float,\n",
    "    dt: float,\n",
    "    n_paths: int,\n",
    "    transaction_cost: float,\n",
    "    rebal_freq: int,\n",
    ") -> tuple[pd.DataFrame, pd.Series]:\n",
    "    \"\"\"\n",
    "    Simulate GBM equity price paths with transaction costs applied on rebalancing.\n",
    "    \"\"\"\n",
    "    if rebal_freq <= 0:\n",
    "        raise ValueError(\"rebal_freq must be a positive integer.\")\n",
    "\n",
    "    n_steps = int(np.round(T / dt))\n",
    "    if n_steps <= 0:\n",
    "        raise ValueError(\"Number of time steps must be positive.\")\n",
    "\n",
    "    times = np.linspace(0.0, T, n_steps + 1)\n",
    "    rng = np.random.default_rng()\n",
    "    shocks = rng.standard_normal((n_steps, n_paths))\n",
    "\n",
    "    prices = np.empty((n_steps + 1, n_paths), dtype=float)\n",
    "    prices[0] = S0\n",
    "    costs = np.zeros(n_paths, dtype=float)\n",
    "\n",
    "    drift_term = (mu - 0.5 * sigma ** 2) * dt\n",
    "    diffusion_term = sigma * np.sqrt(dt)\n",
    "    cost_rate = transaction_cost * 1e-4\n",
    "\n",
    "    for step in range(1, n_steps + 1):\n",
    "        prev_prices = prices[step - 1]\n",
    "        z = shocks[step - 1]\n",
    "        current_prices = prev_prices * np.exp(drift_term + diffusion_term * z)\n",
    "        prices[step] = current_prices\n",
    "\n",
    "        if step % rebal_freq == 0:\n",
    "            costs += current_prices * cost_rate\n",
    "\n",
    "    price_df = pd.DataFrame(\n",
    "        prices,\n",
    "        index=times,\n",
    "        columns=[f\"path_{i}\" for i in range(n_paths)],\n",
    "    )\n",
    "    cost_series = pd.Series(costs, index=price_df.columns, name=\"transaction_cost\")\n",
    "\n",
    "    return price_df, cost_series"
   ]
  },
  {
   "cell_type": "code",
   "execution_count": 7,
   "metadata": {},
   "outputs": [],
   "source": [
    "# Simulation parameters\n",
    "S0 = 100.0\n",
    "mu = 0.05\n",
    "sigma = 0.2\n",
    "T = 1.0\n",
    "dt = 1.0 / 252.0\n",
    "n_paths = 5\n",
    "transaction_cost = 5.0  # basis points per rebalance\n",
    "rebal_freq = 5"
   ]
  },
  {
   "cell_type": "code",
   "execution_count": 8,
   "metadata": {},
   "outputs": [
    {
     "ename": "NameError",
     "evalue": "name 'paths_df' is not defined",
     "output_type": "error",
     "traceback": [
      "\u001b[31m---------------------------------------------------------------------------\u001b[39m",
      "\u001b[31mNameError\u001b[39m                                 Traceback (most recent call last)",
      "\u001b[36mCell\u001b[39m\u001b[36m \u001b[39m\u001b[32mIn[8]\u001b[39m\u001b[32m, line 2\u001b[39m\n\u001b[32m      1\u001b[39m \u001b[38;5;66;03m# Inspect outputs\u001b[39;00m\n\u001b[32m----> \u001b[39m\u001b[32m2\u001b[39m \u001b[38;5;28mprint\u001b[39m(\u001b[33m\"\u001b[39m\u001b[33mSimulated paths shape:\u001b[39m\u001b[33m\"\u001b[39m, \u001b[43mpaths_df\u001b[49m.shape)\n\u001b[32m      3\u001b[39m \u001b[38;5;28mprint\u001b[39m(\u001b[33m\"\u001b[39m\u001b[33mTransaction costs shape:\u001b[39m\u001b[33m\"\u001b[39m, tx_costs.shape)\n\u001b[32m      4\u001b[39m display(paths_df.head())\n",
      "\u001b[31mNameError\u001b[39m: name 'paths_df' is not defined"
     ]
    }
   ],
   "source": [
    "# Inspect outputs\n",
    "print(\"Simulated paths shape:\", paths_df.shape)\n",
    "print(\"Transaction costs shape:\", tx_costs.shape)\n",
    "display(paths_df.head())\n",
    "display(tx_costs.head())\n",
    "\n",
    "# Plot price paths\n",
    "ax = paths_df.plot(legend=True, alpha=0.8)\n",
    "ax.set_title(\"Simulated GBM Price Paths\")\n",
    "ax.set_xlabel(\"Time (years)\")\n",
    "ax.set_ylabel(\"Price\")\n",
    "plt.show()\n",
    "\n",
    "# Summary statistics\n",
    "final_prices = paths_df.iloc[-1]\n",
    "print(f\"Final mean price: {final_prices.mean():.2f}\")\n",
    "print(f\"Final std dev: {final_prices.std(ddof=1):.2f}\")\n",
    "print(f\"Total transaction cost: {tx_costs.sum():.2f}\")"
   ]
  },
  {
   "cell_type": "code",
   "execution_count": 45,
   "metadata": {},
   "outputs": [
    {
     "data": {
      "image/png": "[encoded data removed]",
      "text/plain": [
       "<Figure size 720x480 with 1 Axes>"
      ]
     },
     "metadata": {},
     "output_type": "display_data"
    }
   ],
   "source": [
    "# Distribution of transaction costs\n",
    "plt.figure(figsize=(6,4))\n",
    "tx_costs.plot(kind=\"bar\", alpha=0.7)\n",
    "plt.title(\"Transaction Costs per Path\")\n",
    "plt.ylabel(\"Cost\")\n",
    "plt.xlabel(\"Path\")\n",
    "plt.tight_layout()\n",
    "plt.show()"
   ]
  },
  {
   "cell_type": "code",
   "execution_count": 46,
   "metadata": {},
   "outputs": [
    {
     "name": "stdout",
     "output_type": "stream",
     "text": [
      "Final mean price: 104.67\n",
      "Final price standard deviation: 25.89\n",
      "Total transaction cost: 12.63\n"
     ]
    }
   ],
   "source": [
    "final_prices = paths_df.iloc[-1]\n",
    "print(f\"Final mean price: {final_prices.mean():.2f}\")\n",
    "print(f\"Final price standard deviation: {final_prices.std(ddof=1):.2f}\")\n",
    "print(f\"Total transaction cost: {tx_costs.sum():.2f}\")"
   ]
  },
  {
   "cell_type": "code",
   "execution_count": null,
   "metadata": {},
   "outputs": [],
   "source": []
  },
  {
   "cell_type": "code",
   "execution_count": null,
   "metadata": {},
   "outputs": [],
   "source": []
  },
  {
   "cell_type": "code",
   "execution_count": null,
   "metadata": {},
   "outputs": [],
   "source": []
  }
 ],
 "metadata": {
  "kernelspec": {
   "display_name": "Python 3",
   "language": "python",
   "name": "python3"
  },
  "language_info": {
   "codemirror_mode": {
    "name": "ipython",
    "version": 3
   },
   "file_extension": ".py",
   "mimetype": "text/x-python",
   "name": "python",
   "nbconvert_exporter": "python",
   "pygments_lexer": "ipython3",
   "version": "3.13.5"
  }
 },
 "nbformat": 4,
 "nbformat_minor": 4
}
